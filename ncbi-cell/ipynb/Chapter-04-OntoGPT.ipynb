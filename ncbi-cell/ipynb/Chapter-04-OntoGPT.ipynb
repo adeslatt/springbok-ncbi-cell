{
 "cells": [
  {
   "cell_type": "markdown",
   "metadata": {},
   "source": [
    "**Chapter 04: Use of OntoGPT**\n",
    "\n",
    "Ray LeClair \\<2024-07-08 Mon\\>\n",
    "\n",
    "# Objectives\n",
    "\n",
    "Since the NCBI Cell pipeline calls for the use of a Large Language\n",
    "Model (LLM) to process publications associated with CELLxGENE\n",
    "datasets, the objective of this document is to:\n",
    "\n",
    "-   Investigate the use of OntoGPT for publication processing\n",
    "\n",
    "OntoGP is a Python package for extracting structured information from\n",
    "text using LLMs, instruction prompts, and ontology-based grounding.\n",
    "\n",
    "See: [OntoGPT](https://monarch-initiative.github.io/ontogpt/)\n",
    "\n",
    "## Background\n",
    "\n",
    "The primary extraction method currently implemented in OntoGPT is\n",
    "SPIRES: Structured Prompt Interrogation and Recursive Extraction of\n",
    "Semantics, which:\n",
    "\n",
    "-   Implements a Zero-Shot Learning (ZSL) approach to extracting nested\n",
    "    semantic structures from text\n",
    "\n",
    "-   Uses OpenAI GPT models through their API\n",
    "\n",
    "This demonstration use the `pubmed-annotate` function to retrieve full\n",
    "text of a publicaiton given a PubMed identifier (PMID), then performs\n",
    "extraction on the text with SPIRES using the \"Cell Type\" template.\n",
    "\n",
    "[- SPIRES: Structured Prompt Interrogation and Recursive Extraction of Semantics](https://academic.oup.com/bioinformatics/article/40/3/btae104/7612230)\n",
    "\n",
    "-   [pubmed-annotate](https://monarch-initiative.github.io/ontogpt/functions/#pubmed-annotate)\n",
    "-   [Cell Type](https://monarch-initiative.github.io/ontogpt/cell_type/)\n",
    "\n",
    "## Development environment\n",
    "\n",
    "See: [springbok-ncbi-cell/README.md](https://github.com/ralatsdc/springbok-ncbi-cell/blob/main/README.md)\n",
    "\n",
    "### Jupyter Notebook\n",
    "\n",
    "Launch Jupyter Notebook from a terminal in which `.zshenv` has been\n",
    "sourced, and the virtual environment has been activated.\n",
    "\n",
    "### Emacs Org Mode\n",
    "\n",
    "Launch Emacs from a terminal in which `.zshenv` has been sourced, then\n",
    "evaluate this code block to activate the virtual environment:\n",
    "\n",
    "``` commonlisp\n",
    "(pyvenv-activate \"../../.venv\")\n",
    "```\n",
    "\n",
    "# Investigate the use of OntoGPT for publication processing\n",
    "\n",
    "To begin, we import modules, and assign module scope variables:"
   ],
   "id": "79e6308b-a50f-44b4-8f6e-667478c1a9b7"
  },
  {
   "cell_type": "code",
   "execution_count": null,
   "metadata": {
    "results": "silent",
    "session": "shared",
    "tangle": "../py/OntoGPT.py"
   },
   "outputs": [],
   "source": [
    "import os\n",
    "import subprocess\n",
    "from traceback import print_exc\n",
    "\n",
    "DATA_DIR = \"../data\"\n",
    "\n",
    "ONTOGPT_DIR = f\"{DATA_DIR}/ontogpt\"\n"
   ],
   "id": "1bb55e5f-c564-49f3-8179-c18f3478c2dd"
  },
  {
   "cell_type": "markdown",
   "metadata": {},
   "source": [
    "Then recall that in [Chapter-02-E-Utilities.org](Chapter-02-E-Utilities.org) we saw how to get the\n",
    "PMID for a title:"
   ],
   "id": "6b4fa0c4-99a4-4fa9-8a9b-0ad539277294"
  },
  {
   "cell_type": "code",
   "execution_count": null,
   "metadata": {
    "results": "output",
    "session": "shared"
   },
   "outputs": [],
   "source": [
    "from CELLxGENE import get_lung_obs_and_datasets, get_title\n",
    "from E_Utilities import get_pmid_for_title\n",
    "try:\n",
    "    lung_obs, lung_datasets = get_lung_obs_and_datasets()\n",
    "    citation = lung_datasets[\"citation\"].iloc[0]\n",
    "    title = get_title(citation)\n",
    "    pmid = get_pmid_for_title(title)\n",
    "except Exception:\n",
    "    print_exc()\n",
    "print(f\"PMID: {pmid} found for title: {title}\")\n"
   ],
   "id": "6a18bd57-220a-4aa9-83c6-75443455cc09"
  },
  {
   "cell_type": "markdown",
   "metadata": {},
   "source": [
    "Since the `pubmed-annotate` function of OntoGPT is run on the command\n",
    "line, we use Python's `subprocess` module, caching results in a file\n",
    "to prevent duplicate processing:"
   ],
   "id": "c175bc30-94b9-4936-9943-02f04a05d1bd"
  },
  {
   "cell_type": "code",
   "execution_count": null,
   "metadata": {
    "results": "silent",
    "session": "shared",
    "tangle": "../py/OntoGPT.py"
   },
   "outputs": [],
   "source": [
    "def run_ontogpt_pubmed_annotate(pmid):\n",
    "    \"\"\"Run the OntoGPT pubmed-annotate function for the specified PMID\n",
    "    associated with a dataset.\n",
    "\n",
    "    Parameters\n",
    "    ----------\n",
    "    pmid : str\n",
    "       The PubMed identifier found\n",
    "\n",
    "    Returns\n",
    "    -------\n",
    "    None\n",
    "    \"\"\"\n",
    "    # Run OntoGPT pubmed-annotate function, if needed\n",
    "    if pmid is None:\n",
    "        return\n",
    "    output_filename = f\"{pmid}.out\"\n",
    "    output_filepath = f\"{ONTOGPT_DIR}/{output_filename}\"\n",
    "    if not os.path.exists(output_filepath):\n",
    "        print(f\"Running ontogpt pubmed-annotate for PMID: {pmid}\")\n",
    "        subprocess.run(\n",
    "            [\n",
    "                \"ontogpt\",\n",
    "                \"pubmed-annotate\",\n",
    "                \"--template\",\n",
    "                \"cell_type\",\n",
    "                pmid,\n",
    "                \"--limit\",\n",
    "                \"1\",\n",
    "                \"--output\",\n",
    "                output_filepath,\n",
    "            ],\n",
    "        )\n",
    "        print(f\"Completed ontogpt pubmed-annotate for PMID: {pmid}\")\n",
    "\n",
    "    else:\n",
    "        print(f\"Ontogpt pubmed-annotate output for PMID: {pmid} exists\")\n"
   ],
   "id": "ea81d218-7974-475d-a893-5a4d43deb60a"
  },
  {
   "cell_type": "markdown",
   "metadata": {},
   "source": [
    "Now call the function with the PMID obtained earler:"
   ],
   "id": "a91acac4-c867-45e2-8854-a5be5b6fe766"
  },
  {
   "cell_type": "code",
   "execution_count": null,
   "metadata": {
    "results": "output",
    "session": "shared"
   },
   "outputs": [],
   "source": [
    "try:\n",
    "    run_ontogpt_pubmed_annotate(pmid)\n",
    "except Exception:\n",
    "    print_exc()\n"
   ],
   "id": "587020c1-20dd-4864-9a13-f8275a6be0e1"
  },
  {
   "cell_type": "markdown",
   "metadata": {},
   "source": [
    "Next, in Chapter 05 we'll use the results produced by NS-Forest to\n",
    "populate an ArangoDB database graph.\n",
    "\n",
    "See:\n",
    "\n",
    "-   [Chapter-05-ArangoDB.ipynb](Chapter-05-ArangoDB.ipynb)\n",
    "-   [Chapter-03-NS-Forest.org](Chapter-03-NS-Forest.org)"
   ],
   "id": "5305f4d4-cfbd-43b8-8ec0-8a1d49afc2cb"
  }
 ],
 "nbformat": 4,
 "nbformat_minor": 5,
 "metadata": {}
}
