{
 "cells": [
  {
   "cell_type": "markdown",
   "metadata": {},
   "source": [
    "# Objectives\n",
    "\n",
    "Since the NCBI Cell pipeline calls for the use of a Large Language Model\n",
    "(LLM) to process publications associated with CELLxGENE datasets, the\n",
    "objective of this document is to:\n",
    "\n",
    "-   Investigate the use of OntoGPT for publication processing\n",
    "\n",
    "[OntoGPT](https://monarch-initiative.github.io/ontogpt/) is a Python\n",
    "package for extracting structured information from text using LLMs,\n",
    "instruction prompts, and ontology-based grounding.\n",
    "\n",
    "## Background\n",
    "\n",
    "The primary extraction method currently implemented in OntoGPT is\n",
    "[SPIRES: Structured Prompt Interrogation and Recursive Extraction of\n",
    "Semantics](https://academic.oup.com/bioinformatics/article/40/3/btae104/7612230),\n",
    "which:\n",
    "\n",
    "-   Implements a Zero-Shot Learning (ZSL) approach to extracting nested\n",
    "    semantic structures from text\n",
    "\n",
    "-   Uses OpenAI GPT models through their API\n",
    "\n",
    "This demonstration use the\n",
    "[pubmed-annotate](https://monarch-initiative.github.io/ontogpt/functions/#pubmed-annotate)\n",
    "function to retrieve full text of a publicaiton given a PubMed\n",
    "identifier (PMID), then performs extraction on the text with SPIRES\n",
    "using the [Cell\n",
    "Type](https://monarch-initiative.github.io/ontogpt/cell_type/) template.\n",
    "\n",
    "## Development environment\n",
    "\n",
    "See [Introduction.ipynb](Introduction.ipynb).\n",
    "\n",
    "### Jupyter Notebook\n",
    "\n",
    "Launch Jupyter Notebook from a terminal in which `.zshenv` has been\n",
    "sourced, and the virtual environment has been activated.\n",
    "\n",
    "### Emacs Org Mode\n",
    "\n",
    "Launch Emacs from a terminal in which `.zshenv` has been sourced, then\n",
    "evaluate this code block to activate the virtual environment:\n",
    "\n",
    "``` commonlisp\n",
    "(pyvenv-activate \"../../.venv\")\n",
    "```\n",
    "\n",
    "# Investigate the use of OntoGPT for publication processing\n",
    "\n",
    "To begin, we import modules, and assign module scope variables:"
   ],
   "id": "5546c942-1465-4c72-a7fd-1f34cbaa9e97"
  },
  {
   "cell_type": "code",
   "execution_count": null,
   "metadata": {
    "results": "silent",
    "session": "shared",
    "tangle": "../py/OntoGPT.py"
   },
   "outputs": [],
   "source": [
    "import os\n",
    "import subprocess\n",
    "\n",
    "DATA_DIR = \"../data\"\n",
    "\n",
    "ONTOGPT_DIR = f\"{DATA_DIR}/ontogpt\"\n"
   ],
   "id": "cebaf8c0-6a51-4c22-ba3d-3df6bc797aed"
  },
  {
   "cell_type": "markdown",
   "metadata": {},
   "source": [
    "Then recall that in\n",
    "[Chapter-02-E-Utilities.org](Chapter-02-E-Utilities.org) we saw how to\n",
    "get the PMID for a title:"
   ],
   "id": "71c1b73f-b0e4-4257-87a0-d37a6ddbc086"
  },
  {
   "cell_type": "code",
   "execution_count": null,
   "metadata": {
    "results": "output",
    "session": "shared"
   },
   "outputs": [],
   "source": [
    "from CELLxGENE import get_lung_obs_and_datasets, get_title\n",
    "from E_Utilities import get_pmid_for_title\n",
    "try:\n",
    "    lung_obs, lung_datasets = get_lung_obs_and_datasets()\n",
    "    citation = lung_datasets[\"citation\"].iloc[0]\n",
    "    title = get_title(citation)\n",
    "    pmid = get_pmid_for_title(title)\n",
    "except Exception:\n",
    "    print_exc()\n",
    "print(f\"PMID: {pmid} found for title: {title}\")\n"
   ],
   "id": "c3ac2c60-20df-42a0-b299-94142dc1e817"
  },
  {
   "cell_type": "markdown",
   "metadata": {},
   "source": [
    "Since the `pubmed-annotate` function of OntoGPT is run on the command\n",
    "line, we use Python's `subprocess` module, caching results in a file to\n",
    "prevent duplicate processing:"
   ],
   "id": "050bf0e9-da83-4870-83b1-e82566c6bfed"
  },
  {
   "cell_type": "code",
   "execution_count": null,
   "metadata": {
    "results": "silent",
    "session": "shared",
    "tangle": "../py/OntoGPT.py"
   },
   "outputs": [],
   "source": [
    "def run_ontogpt_pubmed_annotate(pmid):\n",
    "    \"\"\"Run the OntoGPT pubmed-annotate function for the specified PMID\n",
    "    associated with a dataset.\n",
    "\n",
    "    Parameters\n",
    "    ----------\n",
    "    pmid : str\n",
    "       The PubMed identifier found\n",
    "\n",
    "    Returns\n",
    "    -------\n",
    "    None\n",
    "    \"\"\"\n",
    "    # Run OntoGPT pubmed-annotate function, if needed\n",
    "    if pmid is None:\n",
    "        return\n",
    "    output_filename = f\"{pmid}.out\"\n",
    "    output_filepath = f\"{ONTOGPT_DIR}/{output_filename}\"\n",
    "    if not os.path.exists(output_filepath):\n",
    "        print(f\"Running ontogpt pubmed-annotate for PMID: {pmid}\")\n",
    "        subprocess.run(\n",
    "            [\n",
    "                \"ontogpt\",\n",
    "                \"pubmed-annotate\",\n",
    "                \"--template\",\n",
    "                \"cell_type\",\n",
    "                pmid,\n",
    "                \"--limit\",\n",
    "                \"1\",\n",
    "                \"--output\",\n",
    "                output_filepath,\n",
    "            ],\n",
    "        )\n",
    "        print(f\"Completed ontogpt pubmed-annotate for PMID: {pmid}\")\n",
    "\n",
    "    else:\n",
    "        print(f\"Ontogpt pubmed-annotate output for PMID: {pmid} exists\")\n"
   ],
   "id": "413a48aa-15f8-426d-a009-26ad6339ea96"
  },
  {
   "cell_type": "markdown",
   "metadata": {},
   "source": [
    "Now call the function with the PMID obtained earler:"
   ],
   "id": "d07fe1d6-e64c-41b3-882c-7783e14cc7c9"
  },
  {
   "cell_type": "code",
   "execution_count": null,
   "metadata": {
    "results": "output",
    "session": "shared"
   },
   "outputs": [],
   "source": [
    "try:\n",
    "    run_ontogpt_pubmed_annotate(pmid)\n",
    "except Exception:\n",
    "    print_exc()\n"
   ],
   "id": "3efde0ff-72b8-46e4-9ce8-c01a18b73846"
  },
  {
   "cell_type": "markdown",
   "metadata": {},
   "source": [
    "Next, in [Chapter-05-ArangoDB.ipynb](Chapter-05-ArangoDB.ipynb) we'll\n",
    "use the results produced by NS-Forest (See\n",
    "[Chapter-03-NS-Forest.org](Chapter-03-NS-Forest.org)) to populate an\n",
    "ArangoDB database graph."
   ],
   "id": "dceaea7d-98d5-4562-b6e4-da09df2d53fb"
  }
 ],
 "nbformat": 4,
 "nbformat_minor": 5,
 "metadata": {}
}
