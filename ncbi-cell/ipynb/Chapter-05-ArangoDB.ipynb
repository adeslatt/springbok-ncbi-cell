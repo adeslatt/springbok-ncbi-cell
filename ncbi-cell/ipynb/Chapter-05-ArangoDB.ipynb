{
 "cells": [
  {
   "cell_type": "markdown",
   "metadata": {},
   "source": [
    "# Objectives\n",
    "\n",
    "Since the NCBI Information Resources Branch has extensive experience\n",
    "with ArangoDB, including performance comparison testing with Neo4j,\n",
    "interaction with the ArangoDB developers, and use in production, the\n",
    "objectives of this document is to demonstrate how to:\n",
    "\n",
    "-   Create or get, and delete an ArangoDB database\n",
    "\n",
    "-   Create or get, and delete a database graph\n",
    "\n",
    "-   Create or get, and delete a graph vertex collection\n",
    "\n",
    "-   Create or get, and delete a graph edge definition and collection\n",
    "\n",
    "-   Insert graph vertices and edges\n",
    "\n",
    "The [ArangoDB](https://en.wikipedia.org/wiki/ArangoDB) database system,\n",
    "developed by ArangoDB Inc., supports three data models (graphs, JSON\n",
    "documents, and key/value pairs) within one database core, and provides a\n",
    "unified query language, AQL (ArangoDB Query Language).\n",
    "\n",
    "## Background\n",
    "\n",
    "An instance of ArangoDB can be run using the [official Docker\n",
    "image](https://hub.docker.com/_/arangodb). For example, a instance with\n",
    "authentication disabled can be run as follows:\n",
    "\n",
    "``` zsh\n",
    "docker run \\\n",
    "     -e ARANGO_NO_AUTH=1 \\\n",
    "     -p 8529:8529 \\\n",
    "     -d \\\n",
    "     -v $ARANGODB_HOME:/var/lib/arangodb3 \\\n",
    "     arangodb\n",
    "```\n",
    "\n",
    "where `ARANGODB_HOME` has been set to the name of the directory in which\n",
    "to persist data. Now\n",
    "[python-arango](https://docs.python-arango.com/en/main/#) can be used to\n",
    "interact with the database system using Python.\n",
    "\n",
    "## Development environment\n",
    "\n",
    "See [Introduction.ipynb](Introduction.ipynb).\n",
    "\n",
    "### Jupyter Notebook\n",
    "\n",
    "Launch Jupyter Notebook from a terminal in which `.zshenv` has been\n",
    "sourced, and the virtual environment has been activated.\n",
    "\n",
    "### Emacs Org Mode\n",
    "\n",
    "Launch Emacs from a terminal in which `.zshenv` has been sourced, then\n",
    "evaluate this code block to activate the virtual environment:\n",
    "\n",
    "``` commonlisp\n",
    "(pyvenv-activate \"../../.venv\")\n",
    "```\n",
    "\n",
    "# Create or get, and delete an ArangoDB database\n",
    "\n",
    "To begin, we import modules, and assign module scope variables:"
   ],
   "id": "88bfd7bf-fe5f-4636-9ca1-1cf5d9c0f433"
  },
  {
   "cell_type": "code",
   "execution_count": null,
   "metadata": {
    "results": "silent",
    "session": "shared",
    "tangle": "../py/ArangoDB.py"
   },
   "outputs": [],
   "source": [
    "import ast\n",
    "from glob import glob\n",
    "import os\n",
    "\n",
    "from arango import ArangoClient\n",
    "import pandas as pd\n",
    "\n",
    "ARANGO_URL = \"http://localhost:8529\"\n",
    "ARANGO_CLIENT = ArangoClient(hosts=ARANGO_URL)\n",
    "SYS_DB = ARANGO_CLIENT.db(\"_system\", username=\"root\", password=\"\")\n",
    "\n",
    "DATA_DIR = \"../data\"\n",
    "\n",
    "NCBI_CELL_DIR = f\"{DATA_DIR}/ncbi-cell\"\n",
    "NSFOREST_DIR = f\"{DATA_DIR}/nsforest-2024-06-27\"\n"
   ],
   "id": "c0cbf8a9-1233-431c-a7b1-b1f10bfc5afc"
  },
  {
   "cell_type": "markdown",
   "metadata": {},
   "source": [
    "Arango maintains a system database which is used for administering all\n",
    "other databases. Since we anticipate needing to create multiple versions\n",
    "of the database used for the NCBI Cell pilot, we append a semantic\n",
    "version to the database name. And we adopt the convention of creating\n",
    "the database, if needed, or getting it, otherwise. We will follow this\n",
    "convention when handling other database objects later. Here's the\n",
    "function we need:"
   ],
   "id": "458fff81-5e15-43a2-9f14-bdb7748e3138"
  },
  {
   "cell_type": "code",
   "execution_count": null,
   "metadata": {
    "results": "silent",
    "session": "shared",
    "tangle": "../py/ArangoDB.py"
   },
   "outputs": [],
   "source": [
    "def create_or_get_database(database_name):\n",
    "    \"\"\"Create or get an ArangoDB database.\n",
    "\n",
    "    Parameters\n",
    "    ----------\n",
    "    database_name : str\n",
    "        Name of the database to create or get\n",
    "\n",
    "    Returns\n",
    "    -------\n",
    "    db : arango.database.StandardDatabase\n",
    "        Database\n",
    "    \"\"\"\n",
    "    # Create database, if needed\n",
    "    if not SYS_DB.has_database(database_name):\n",
    "        print(f\"Creating ArangoDB database: {database_name}\")\n",
    "        SYS_DB.create_database(database_name)\n",
    "\n",
    "    # Connect to database\n",
    "    print(f\"Getting ArangoDB database: {database_name}\")\n",
    "    db = ARANGO_CLIENT.db(database_name, username=\"root\", password=\"\")\n",
    "\n",
    "    return db\n"
   ],
   "id": "0dd223fa-c829-4208-93bb-6eac32929cbe"
  },
  {
   "cell_type": "markdown",
   "metadata": {},
   "source": [
    "Note that we can delete the database as follows:"
   ],
   "id": "4ab18bed-584f-48ee-8e68-d5f6ce49d323"
  },
  {
   "cell_type": "code",
   "execution_count": null,
   "metadata": {
    "results": "silent",
    "session": "shared",
    "tangle": "../py/ArangoDB.py"
   },
   "outputs": [],
   "source": [
    "def delete_database(database_name):\n",
    "    \"\"\"Delete an ArangoDB database.\n",
    "\n",
    "    Parameters\n",
    "    ----------\n",
    "    database_name : str\n",
    "        Name of the database to delete\n",
    "\n",
    "    Returns\n",
    "    -------\n",
    "    None\n",
    "    \"\"\"\n",
    "    # Delete database, if needed\n",
    "    if SYS_DB.has_database(database_name):\n",
    "        print(f\"Deleting ArangoDB database: {database_name}\")\n",
    "        SYS_DB.delete_database(database_name)\n"
   ],
   "id": "695055bd-93d0-4c8f-8d2c-087c99295e90"
  },
  {
   "cell_type": "markdown",
   "metadata": {},
   "source": [
    "Now initialize a named database:"
   ],
   "id": "38552735-80d0-4f24-8739-28b4218d104e"
  },
  {
   "cell_type": "code",
   "execution_count": null,
   "metadata": {
    "results": "output",
    "session": "shared"
   },
   "outputs": [],
   "source": [
    "try:\n",
    "    database_name = \"ncbi-cell-v0.1.0\"\n",
    "    delete_database(database_name)\n",
    "    db = create_or_get_database(database_name)\n",
    "except Exception:\n",
    "    print_exc()\n"
   ],
   "id": "480aedd9-9439-4f41-a017-9e482eb050f4"
  },
  {
   "cell_type": "markdown",
   "metadata": {},
   "source": [
    "# Create or get, and delete a database graph\n",
    "\n",
    "For purposes of this demonstration, we assume we have run NS-Forest for\n",
    "a set of CELLxGENE datasets, as shown in\n",
    "[Chapter-03-NS-Forest.ipynb](Chapter-03-NS-Forest.ipynb), naively using\n",
    "the default `cluster_header` of `\"cell_type\"` to obtain a set of marker\n",
    "genes for each cell type included in each dataset. It is natural, then,\n",
    "to treat cell types and marker genes as vertices of a graph. ArangoDB\n",
    "collects vertices in named collections, so we will use the names `cell`\n",
    "and `gene`.\n",
    "\n",
    "Following our convention, we create the graph, if needed, or get it,\n",
    "otherwise. Here's the function:"
   ],
   "id": "5db46850-62b1-4372-b2ed-d701156833e2"
  },
  {
   "cell_type": "code",
   "execution_count": null,
   "metadata": {
    "results": "silent",
    "session": "shared",
    "tangle": "../py/ArangoDB.py"
   },
   "outputs": [],
   "source": [
    "def create_or_get_graph(db, graph_name):\n",
    "    \"\"\"Create or get an ArangoDB database graph.\n",
    "\n",
    "    Parameters\n",
    "    ----------\n",
    "    db : arango.database.StandardDatabase\n",
    "        Database\n",
    "    graph_name : str\n",
    "        Name of the graph to create or get\n",
    "\n",
    "    Returns\n",
    "    -------\n",
    "    graph : arango.graph.Graph\n",
    "        Database graph\n",
    "    \"\"\"\n",
    "    # Create, or get the graph\n",
    "    if not db.has_graph(graph_name):\n",
    "        print(f\"Creating database graph: {graph_name}\")\n",
    "        graph = db.create_graph(graph_name)\n",
    "    else:\n",
    "        print(f\"Getting database graph: {graph_name}\")\n",
    "        graph = db.graph(graph_name)\n",
    "\n",
    "    return graph\n"
   ],
   "id": "dee83206-36ef-4689-a79f-3b30dd875937"
  },
  {
   "cell_type": "markdown",
   "metadata": {},
   "source": [
    "Although we anticipate needing to create multiple graphs within the NCBI\n",
    "Cell pilot database, we will only create one graph here. We adopt the\n",
    "convention of labeling the graph by it's vertices:"
   ],
   "id": "a73b39d8-819b-4ca9-aa09-20e48fb7957a"
  },
  {
   "cell_type": "code",
   "execution_count": null,
   "metadata": {
    "results": "output",
    "session": "shared"
   },
   "outputs": [],
   "source": [
    "graph_name = \"cell-gene\"\n",
    "graph = create_or_get_graph(db, graph_name)\n"
   ],
   "id": "f7394339-c1a9-4627-bfdf-03661640d3ba"
  },
  {
   "cell_type": "markdown",
   "metadata": {},
   "source": [
    "Note that we can delete the graph as follows:"
   ],
   "id": "91934406-fcc5-44e8-ae20-a40ed46f06ed"
  },
  {
   "cell_type": "code",
   "execution_count": null,
   "metadata": {
    "results": "silent",
    "session": "shared",
    "tangle": "../py/ArangoDB.py"
   },
   "outputs": [],
   "source": [
    "def delete_graph(db, graph_name):\n",
    "    \"\"\"Delete an ArangoDB database graph.\n",
    "\n",
    "    Parameters\n",
    "    ----------\n",
    "    db : arango.database.StandardDatabase\n",
    "        Database\n",
    "    graph_name : str\n",
    "        Name of the graph to delete\n",
    "\n",
    "    Returns\n",
    "    -------\n",
    "    None\n",
    "    \"\"\"\n",
    "    # Delete the graph\n",
    "    if db.has_graph(graph_name):\n",
    "        print(f\"Deleting database graph: {graph_name}\")\n",
    "        db.delete_graph(graph_name)\n"
   ],
   "id": "99c6bfd4-58bd-4029-b139-39b2faeae61f"
  },
  {
   "cell_type": "markdown",
   "metadata": {},
   "source": [
    "# Create or get, and delete a graph vertex collection\n",
    "\n",
    "Following our earlier conventions, here's the function we need:"
   ],
   "id": "f7f202ce-4a21-4fec-9578-9deaf291ea19"
  },
  {
   "cell_type": "code",
   "execution_count": null,
   "metadata": {
    "results": "silent",
    "session": "shared",
    "tangle": "../py/ArangoDB.py"
   },
   "outputs": [],
   "source": [
    "def create_or_get_vertex_collection(graph, vertex_name):\n",
    "    \"\"\"Create, or get an ArangoDB database graph vertex collection.\n",
    "\n",
    "    Parameters\n",
    "    ----------\n",
    "    graph : arango.graph.Graph\n",
    "        Graph\n",
    "    vertex_name : str\n",
    "        Name of the vertex collection to create or get\n",
    "\n",
    "    Returns\n",
    "    -------\n",
    "    collection : arango.collection.VertexCollection\n",
    "        Graph vertex collection\n",
    "    \"\"\"\n",
    "    # Create, or get the vertex collection\n",
    "    if not graph.has_vertex_collection(vertex_name):\n",
    "        print(f\"Creating graph vertex collection: {vertex_name}\")\n",
    "        collection = graph.create_vertex_collection(vertex_name)\n",
    "    else:\n",
    "        print(f\"Getting graph vertex collection: {vertex_name}\")\n",
    "        collection = graph.vertex_collection(vertex_name)\n",
    "\n",
    "    return collection\n"
   ],
   "id": "15ef621a-d711-4321-8eed-08743a4d093f"
  },
  {
   "cell_type": "markdown",
   "metadata": {},
   "source": [
    "Now we create the two named vertex collections:"
   ],
   "id": "6fb94d32-4107-44fb-b9d2-2b0ae650fc91"
  },
  {
   "cell_type": "code",
   "execution_count": null,
   "metadata": {
    "results": "output",
    "session": "shared"
   },
   "outputs": [],
   "source": [
    "cell_vertex_name = \"cell\"\n",
    "cell = create_or_get_vertex_collection(graph, cell_vertex_name)\n",
    "gene_vertex_name = \"gene\"\n",
    "gene = create_or_get_vertex_collection(graph, gene_vertex_name)\n"
   ],
   "id": "0a4c0f10-5c75-4f01-b083-276d5add954d"
  },
  {
   "cell_type": "markdown",
   "metadata": {},
   "source": [
    "Note that we can delete a vertex collection as follows:"
   ],
   "id": "06129a62-817a-4eb8-bdf1-40354006e9d4"
  },
  {
   "cell_type": "code",
   "execution_count": null,
   "metadata": {
    "results": "silent",
    "session": "shared",
    "tangle": "../py/ArangoDB.py"
   },
   "outputs": [],
   "source": [
    "def delete_vertex_collection(graph, vertex_name):\n",
    "    \"\"\"Delete an ArangoDB database graph vertex collection.\n",
    "\n",
    "    Parameters\n",
    "    ----------\n",
    "    graph : arango.graph.Graph\n",
    "        Graph\n",
    "    vertex_name : str\n",
    "        Name of the vertex collection to delete\n",
    "\n",
    "    Returns\n",
    "    -------\n",
    "    None\n",
    "    \"\"\"\n",
    "    # Delete the vertex collection\n",
    "    if graph.has_vertex_collection(vertex_name):\n",
    "        print(f\"Deleting graph vertex collection: {vertex_name}\")\n",
    "        graph.delete_vertex_collection(vertex_name)\n"
   ],
   "id": "48fce4fc-f924-447d-b5c4-117be63fad09"
  },
  {
   "cell_type": "markdown",
   "metadata": {},
   "source": [
    "# Create or get, and delete a graph edge definition and collection\n",
    "\n",
    "ArangoDB can create edge collections by specifying an edge definition\n",
    "consisting of a from and to vertex collection. When using this approach,\n",
    "edges cannot be inserted into the collection unless valid. Here's the\n",
    "function we need, taking this defensive approach:"
   ],
   "id": "bff10340-148d-490e-a56c-c811629def15"
  },
  {
   "cell_type": "code",
   "execution_count": null,
   "metadata": {
    "results": "silent",
    "session": "shared",
    "tangle": "../py/ArangoDB.py"
   },
   "outputs": [],
   "source": [
    "def create_or_get_edge_collection(graph, from_vertex_name, to_vertex_name):\n",
    "    \"\"\"Create, or get an ArangoDB database edge collection from and\n",
    "    to the specified vertices.\n",
    "\n",
    "    Parameters\n",
    "    ----------\n",
    "    graph : arango.graph.Graph\n",
    "        Graph\n",
    "    from_vertex : str\n",
    "        Name of the vertex collection from which the edge originates\n",
    "    to_vertex : str\n",
    "        Name of the vertex collection to which the edge terminates\n",
    "\n",
    "    Returns\n",
    "    -------\n",
    "    collection : arango.collection.EdgeCollection\n",
    "        Graph edge collection\n",
    "    collection_name : str\n",
    "        Name of the edge collection\n",
    "    \"\"\"\n",
    "    # Create, or get the edge collection\n",
    "    collection_name = f\"{from_vertex_name}-{to_vertex_name}\"\n",
    "    if not graph.has_edge_definition(collection_name):\n",
    "        print(f\"Creating edge definition: {collection_name}\")\n",
    "        collection = graph.create_edge_definition(\n",
    "            edge_collection=collection_name,\n",
    "            from_vertex_collections=[f\"{from_vertex_name}\"],\n",
    "            to_vertex_collections=[f\"{to_vertex_name}\"],\n",
    "        )\n",
    "    else:\n",
    "        print(f\"Getting edge collection: {collection_name}\")\n",
    "        collection = graph.edge_collection(collection_name)\n",
    "\n",
    "    return collection, collection_name\n"
   ],
   "id": "0c6dab42-19d5-492c-8e51-77339a2b1b3a"
  },
  {
   "cell_type": "markdown",
   "metadata": {},
   "source": [
    "Now create a single edge collection from cell to gene vertices:"
   ],
   "id": "8680065a-c20a-4eac-a9c0-09e4ec69362d"
  },
  {
   "cell_type": "code",
   "execution_count": null,
   "metadata": {
    "results": "output",
    "session": "shared"
   },
   "outputs": [],
   "source": [
    "cell_gene, edge_name = create_or_get_edge_collection(graph, \"cell\", \"gene\")\n"
   ],
   "id": "fd39aad1-5be4-4280-bef7-ea0dcecb9411"
  },
  {
   "cell_type": "markdown",
   "metadata": {},
   "source": [
    "Note that we can delete an edge collection as follows:"
   ],
   "id": "bcc54eca-0d49-4ce4-a6eb-c82d6c274ca1"
  },
  {
   "cell_type": "code",
   "execution_count": null,
   "metadata": {
    "results": "silent",
    "session": "shared",
    "tangle": "../py/ArangoDB.py"
   },
   "outputs": [],
   "source": [
    "def delete_edge_collection(graph, edge_name):\n",
    "    \"\"\"Delete an ArangoDB database graph edge definition and collection.\n",
    "\n",
    "    Parameters\n",
    "    ----------\n",
    "    graph : arango.graph.Graph\n",
    "        Graph\n",
    "    edge_name : str\n",
    "        Name of the edge definition and collection to delete\n",
    "\n",
    "    Returns\n",
    "    -------\n",
    "    None\n",
    "    \"\"\"\n",
    "    # Delete the collection\n",
    "    if graph.has_edge_definition(edge_name):\n",
    "        print(f\"Deleting graph edge definition and collection: {edge_name}\")\n",
    "        graph.delete_edge_definition(edge_name)\n"
   ],
   "id": "186e76dc-0f52-4a7a-a77a-d855171ecf78"
  },
  {
   "cell_type": "markdown",
   "metadata": {},
   "source": [
    "# Insert graph vertices and edges\n",
    "\n",
    "Assuming the NS-Forest results reside in directory `NSFOREST_DIR`, we\n",
    "read each results file, then insert a vertex for each cell type and\n",
    "marker gene. Note that ArangoDB vertices can contain arbitrary content,\n",
    "so we collect the dataset identifiers for cell and gene vertices, and\n",
    "cluster names for gene vertices to use for inserting edges to dataset\n",
    "vertices we might add later."
   ],
   "id": "81148270-f125-4ede-8dfa-eb08333ca4c7"
  },
  {
   "cell_type": "code",
   "execution_count": null,
   "metadata": {
    "results": "output",
    "session": "shared"
   },
   "outputs": [],
   "source": [
    "try:\n",
    "    # Read each NSForest results file\n",
    "    for fn in glob(f\"{NSFOREST_DIR}/*/*.csv\"):\n",
    "        print(f\"Reading results file: {fn}\")\n",
    "        df = pd.read_csv(fn)\n",
    "\n",
    "        # Append the dataset_id\n",
    "        dataset_id = os.path.basename(os.path.dirname(fn))\n",
    "        df[\"dataset_id\"] = dataset_id\n",
    "\n",
    "        # Consider each row of the DataFrame\n",
    "        for index, row in df.iterrows():\n",
    "\n",
    "            # Insert or update a cell vertex using the row clusterName\n",
    "            # as key, collecting all dataset_ids corresponding to the\n",
    "            # cell vertex\n",
    "            cll_key = row[\"clusterName\"].replace(\" \", \"-\").replace(\",\", \":\")\n",
    "            if not cell.has(cll_key):\n",
    "                d = {\n",
    "                    \"_key\": cll_key,\n",
    "                    \"clusterName\": row[\"clusterName\"],\n",
    "                    \"dataset_ids\": [row[\"dataset_id\"]],\n",
    "                }\n",
    "                print(f\"Inserting cell: {cll_key}\")\n",
    "                cell.insert(d)\n",
    "\n",
    "            else:\n",
    "                d = cell.get(cll_key)\n",
    "                d[\"dataset_ids\"].append(row[\"dataset_id\"])\n",
    "                print(f\"Updating cell: {cll_key}\")\n",
    "                cell.update(d)\n",
    "\n",
    "            # Consider each marker in the row\n",
    "            for mrk in ast.literal_eval(row[\"NSForest_markers\"]):\n",
    "\n",
    "                # Insert or update a gene vertex using the marker as\n",
    "                # key, collecting all clusterNames and dataset_ids\n",
    "                # corresponding to the gene vertex\n",
    "                gn_key = mrk\n",
    "                if not gene.has(gn_key):\n",
    "                    d = {\n",
    "                        \"_key\": gn_key,\n",
    "                        \"clusterNames\": [row[\"clusterName\"]],\n",
    "                        \"dataset_ids\": [row[\"dataset_id\"]],\n",
    "                    }\n",
    "                    print(f\"Inserting gene: {gn_key}\")\n",
    "                    gene.insert(d)\n",
    "\n",
    "                else:\n",
    "                    d = gene.get(gn_key)\n",
    "                    d[\"clusterNames\"].append(row[\"clusterName\"])\n",
    "                    d[\"dataset_ids\"].append(row[\"dataset_id\"])\n",
    "                    print(f\"Updating gene: {gn_key}\")\n",
    "                    gene.update(d)\n",
    "\n",
    "                # Insert an edge from the cell vertex to the gene\n",
    "                # vertex, if needed\n",
    "                d = {\n",
    "                    \"_key\": f\"{cll_key}-{gn_key}\",\n",
    "                    \"_from\": f\"cell/{cll_key}\",\n",
    "                    \"_to\": f\"gene/{gn_key}\",\n",
    "                }\n",
    "                if not cell_gene.has(d):\n",
    "                    print(\n",
    "                        f\"Inserting edge from cell vertex with key: {cll_key} to gene vertex with key: {gn_key}\"\n",
    "                    )\n",
    "                    cell_gene.insert(d)\n",
    "except Exception:\n",
    "    print_exc()\n"
   ],
   "id": "6f081377-5018-4f1d-a1fb-828bb31d3833"
  },
  {
   "cell_type": "markdown",
   "metadata": {},
   "source": [
    "Note that all of the database objects created can be deleted as follows:"
   ],
   "id": "530a6af2-634c-485a-9302-ee28c2153f39"
  },
  {
   "cell_type": "code",
   "execution_count": null,
   "metadata": {
    "results": "output",
    "session": "shared"
   },
   "outputs": [],
   "source": [
    "delete_edge_collection(graph, edge_name)\n",
    "delete_vertex_collection(graph, gene_vertex_name)\n",
    "delete_vertex_collection(graph, cell_vertex_name)\n",
    "delete_graph(db, graph_name)\n",
    "delete_database(database_name)\n"
   ],
   "id": "5d353496-d449-48a6-a07a-d49ce0d5c7cb"
  }
 ],
 "nbformat": 4,
 "nbformat_minor": 5,
 "metadata": {}
}
