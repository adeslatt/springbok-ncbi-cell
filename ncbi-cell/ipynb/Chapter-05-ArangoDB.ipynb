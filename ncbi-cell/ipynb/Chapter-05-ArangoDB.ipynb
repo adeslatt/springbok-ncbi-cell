{
 "cells": [
  {
   "cell_type": "markdown",
   "metadata": {},
   "source": [
    "**Chapter 05: Use of ArangoDB**\n",
    "\n",
    "Ray LeClair \\<2024-07-14 Sun\\>\n",
    "\n",
    "# Objectives\n",
    "\n",
    "Since the NCBI Information Resources Branch has extensive experience\n",
    "with ArangoDB, including performance comparison testing with Neo4j,\n",
    "interaction with the ArangoDB developers, and use in production, the\n",
    "objectives of this document is to demonstrate how to:\n",
    "\n",
    "-   Create or get, and delete an ArangoDB database\n",
    "\n",
    "-   Create or get, and delete a database graph\n",
    "\n",
    "-   Create or get, and delete a graph vertex collection\n",
    "\n",
    "-   Create or get, and delete a graph edge definition and collection\n",
    "\n",
    "-   Insert graph vertices and edges\n",
    "\n",
    "The ArangoDB database system, developed by ArangoDB Inc., supports\n",
    "three data models (graphs, JSON documents, and key/value pairs) within\n",
    "one database core, and provides a unified query language, AQL\n",
    "(ArangoDB Query Language).\n",
    "\n",
    "See: [ArangoDB](https://en.wikipedia.org/wiki/ArangoDB)\n",
    "\n",
    "## Background\n",
    "\n",
    "An instance of ArangoDB can be run using the official Docker\n",
    "image. For example, a instance with authentication disabled can be run\n",
    "as follows:\n",
    "\n",
    "``` bash\n",
    "docker run \\\\\n",
    "  -e ARANGO<sub>NOAUTH</sub>=1 \\\\\n",
    "  -p 8529:8529 \\\\\n",
    "  -d \\\\\n",
    "  -v \\$ARANGODB<sub>HOME</sub>:/var/lib/arangodb3 \\\\\n",
    "  arangodb\n",
    "```\n",
    "\n",
    "where `ARANGODB_HOME` has been set to the name of the directory in\n",
    "which to persist data. Now `python-arango` can be used to interact\n",
    "with the database system using Python.\n",
    "\n",
    "See:\n",
    "\n",
    "-   [ArangoDB Docker image](https://hub.docker.com/_/arangodb)\n",
    "-   [python-arango](https://docs.python-arango.com/en/main/#)\n",
    "\n",
    "## Development environment\n",
    "\n",
    "See: [springbok-ncbi-cell/README.md](https://github.com/ralatsdc/springbok-ncbi-cell/blob/main/README.md)\n",
    "\n",
    "### Jupyter Notebook\n",
    "\n",
    "Launch Jupyter Notebook from a terminal in which `.zshenv` has been\n",
    "sourced, and the virtual environment has been activated.\n",
    "\n",
    "### Emacs Org Mode\n",
    "\n",
    "Launch Emacs from a terminal in which `.zshenv` has been sourced, then\n",
    "evaluate this code block to activate the virtual environment:\n",
    "\n",
    "``` commonlisp\n",
    "(pyvenv-activate \"../../.venv\")\n",
    "```\n",
    "\n",
    "# Create or get, and delete an ArangoDB database\n",
    "\n",
    "To begin, we import modules, and assign module scope variables:"
   ],
   "id": "cbdb6b95-5d0d-49b4-a5e2-bc5e2d9cc24f"
  },
  {
   "cell_type": "code",
   "execution_count": null,
   "metadata": {
    "results": "silent",
    "session": "shared",
    "tangle": "../py/ArangoDB.py"
   },
   "outputs": [],
   "source": [
    "import ast\n",
    "from glob import glob\n",
    "import os\n",
    "from traceback import print_exc\n",
    "\n",
    "from arango import ArangoClient\n",
    "import pandas as pd\n",
    "\n",
    "ARANGO_URL = \"http://localhost:8529\"\n",
    "ARANGO_CLIENT = ArangoClient(hosts=ARANGO_URL)\n",
    "SYS_DB = ARANGO_CLIENT.db(\"_system\", username=\"root\", password=\"\")\n",
    "\n",
    "DATA_DIR = \"../data\"\n",
    "\n",
    "NCBI_CELL_DIR = f\"{DATA_DIR}/ncbi-cell\"\n",
    "NSFOREST_DIR = f\"{DATA_DIR}/nsforest-2024-06-27\"\n"
   ],
   "id": "638396fb-2032-40d7-9b9e-7f0db318f1bf"
  },
  {
   "cell_type": "markdown",
   "metadata": {},
   "source": [
    "Arango maintains a system database which is used for administering all\n",
    "other databases. Since we anticipate needing to create multiple\n",
    "versions of the database used for the NCBI Cell pilot, we append a\n",
    "semantic version to the database name. And we adopt the convention of\n",
    "creating the database, if needed, or getting it, otherwise. We will\n",
    "follow this convention when handling other database objects\n",
    "later. Here's the function we need:"
   ],
   "id": "95992c0b-ea45-4325-97c4-1edea05690c4"
  },
  {
   "cell_type": "code",
   "execution_count": null,
   "metadata": {
    "results": "silent",
    "session": "shared",
    "tangle": "../py/ArangoDB.py"
   },
   "outputs": [],
   "source": [
    "def create_or_get_database(database_name):\n",
    "    \"\"\"Create or get an ArangoDB database.\n",
    "\n",
    "    Parameters\n",
    "    ----------\n",
    "    database_name : str\n",
    "        Name of the database to create or get\n",
    "\n",
    "    Returns\n",
    "    -------\n",
    "    db : arango.database.StandardDatabase\n",
    "        Database\n",
    "    \"\"\"\n",
    "    # Create database, if needed\n",
    "    if not SYS_DB.has_database(database_name):\n",
    "        print(f\"Creating ArangoDB database: {database_name}\")\n",
    "        SYS_DB.create_database(database_name)\n",
    "\n",
    "    # Connect to database\n",
    "    print(f\"Getting ArangoDB database: {database_name}\")\n",
    "    db = ARANGO_CLIENT.db(database_name, username=\"root\", password=\"\")\n",
    "\n",
    "    return db\n"
   ],
   "id": "540381a7-b8c2-490c-9ebe-3e9f58a0f0d9"
  },
  {
   "cell_type": "markdown",
   "metadata": {},
   "source": [
    "Note that we can delete the database as follows:"
   ],
   "id": "2adb1fd5-64f4-400a-81a5-71b307564913"
  },
  {
   "cell_type": "code",
   "execution_count": null,
   "metadata": {
    "results": "silent",
    "session": "shared",
    "tangle": "../py/ArangoDB.py"
   },
   "outputs": [],
   "source": [
    "def delete_database(database_name):\n",
    "    \"\"\"Delete an ArangoDB database.\n",
    "\n",
    "    Parameters\n",
    "    ----------\n",
    "    database_name : str\n",
    "        Name of the database to delete\n",
    "\n",
    "    Returns\n",
    "    -------\n",
    "    None\n",
    "    \"\"\"\n",
    "    # Delete database, if needed\n",
    "    if SYS_DB.has_database(database_name):\n",
    "        print(f\"Deleting ArangoDB database: {database_name}\")\n",
    "        SYS_DB.delete_database(database_name)\n"
   ],
   "id": "d83f675e-ac5c-4d48-bb9e-55ac24eb96dd"
  },
  {
   "cell_type": "markdown",
   "metadata": {},
   "source": [
    "Now initialize a named database:"
   ],
   "id": "a75fd36b-fe4f-4189-a263-16bdf47a6bc5"
  },
  {
   "cell_type": "code",
   "execution_count": null,
   "metadata": {
    "results": "output",
    "session": "shared"
   },
   "outputs": [],
   "source": [
    "try:\n",
    "    database_name = \"ncbi-cell-v0.1.0\"\n",
    "    delete_database(database_name)\n",
    "    db = create_or_get_database(database_name)\n",
    "except Exception:\n",
    "    print_exc()\n"
   ],
   "id": "6820fe19-8527-4eb5-9177-7153c86f2b80"
  },
  {
   "cell_type": "markdown",
   "metadata": {},
   "source": [
    "# Create or get, and delete a database graph\n",
    "\n",
    "For purposes of this demonstration, we assume we have run NS-Forest\n",
    "for a set of CELLxGENE datasets, as shown in Chapter 03, naively using\n",
    "the default `cluster_header` of `\"cell_type\"` to obtain a set of\n",
    "marker genes for each cell type included in each dataset. It is\n",
    "natural, then, to treat cell types and marker genes as vertices of a\n",
    "graph. ArangoDB collects vertices in named collections, so we will use\n",
    "the names `cell` and `gene`.\n",
    "\n",
    "See: [Chapter-03-NS-Forest.ipynb](Chapter-03-NS-Forest.ipynb)\n",
    "\n",
    "Following our convention, we create the graph, if needed, or get it,\n",
    "otherwise. Here's the function:"
   ],
   "id": "a8743c43-f8be-49d5-a347-a4057aa94cf5"
  },
  {
   "cell_type": "code",
   "execution_count": null,
   "metadata": {
    "results": "silent",
    "session": "shared",
    "tangle": "../py/ArangoDB.py"
   },
   "outputs": [],
   "source": [
    "def create_or_get_graph(db, graph_name):\n",
    "    \"\"\"Create or get an ArangoDB database graph.\n",
    "\n",
    "    Parameters\n",
    "    ----------\n",
    "    db : arango.database.StandardDatabase\n",
    "        Database\n",
    "    graph_name : str\n",
    "        Name of the graph to create or get\n",
    "\n",
    "    Returns\n",
    "    -------\n",
    "    graph : arango.graph.Graph\n",
    "        Database graph\n",
    "    \"\"\"\n",
    "    # Create, or get the graph\n",
    "    if not db.has_graph(graph_name):\n",
    "        print(f\"Creating database graph: {graph_name}\")\n",
    "        graph = db.create_graph(graph_name)\n",
    "    else:\n",
    "        print(f\"Getting database graph: {graph_name}\")\n",
    "        graph = db.graph(graph_name)\n",
    "\n",
    "    return graph\n"
   ],
   "id": "de60dc43-1f6f-4368-a0cf-8711f80c3df3"
  },
  {
   "cell_type": "markdown",
   "metadata": {},
   "source": [
    "Although we anticipate needing to create multiple graphs within the\n",
    "NCBI Cell pilot database, we will only create one graph here. We adopt\n",
    "the convention of labeling the graph by it's vertices:"
   ],
   "id": "1742aab8-ffec-4445-80e2-c1174c07a740"
  },
  {
   "cell_type": "code",
   "execution_count": null,
   "metadata": {
    "results": "output",
    "session": "shared"
   },
   "outputs": [],
   "source": [
    "graph_name = \"cell-gene\"\n",
    "graph = create_or_get_graph(db, graph_name)\n"
   ],
   "id": "d3351613-a839-4c77-bb87-8ab7a294f819"
  },
  {
   "cell_type": "markdown",
   "metadata": {},
   "source": [
    "Note that we can delete the graph as follows:"
   ],
   "id": "18768cf2-a30d-415f-be2b-3d90f09971e5"
  },
  {
   "cell_type": "code",
   "execution_count": null,
   "metadata": {
    "results": "silent",
    "session": "shared",
    "tangle": "../py/ArangoDB.py"
   },
   "outputs": [],
   "source": [
    "def delete_graph(db, graph_name):\n",
    "    \"\"\"Delete an ArangoDB database graph.\n",
    "\n",
    "    Parameters\n",
    "    ----------\n",
    "    db : arango.database.StandardDatabase\n",
    "        Database\n",
    "    graph_name : str\n",
    "        Name of the graph to delete\n",
    "\n",
    "    Returns\n",
    "    -------\n",
    "    None\n",
    "    \"\"\"\n",
    "    # Delete the graph\n",
    "    if db.has_graph(graph_name):\n",
    "        print(f\"Deleting database graph: {graph_name}\")\n",
    "        db.delete_graph(graph_name)\n"
   ],
   "id": "d6e6eda7-6a96-4e00-a6df-1af1bed5d183"
  },
  {
   "cell_type": "markdown",
   "metadata": {},
   "source": [
    "# Create or get, and delete a graph vertex collection\n",
    "\n",
    "Following our earlier conventions, here's the function we need:"
   ],
   "id": "4ca903a0-49b9-44a7-8ec4-f0acb5dd78a8"
  },
  {
   "cell_type": "code",
   "execution_count": null,
   "metadata": {
    "results": "silent",
    "session": "shared",
    "tangle": "../py/ArangoDB.py"
   },
   "outputs": [],
   "source": [
    "def create_or_get_vertex_collection(graph, vertex_name):\n",
    "    \"\"\"Create, or get an ArangoDB database graph vertex collection.\n",
    "\n",
    "    Parameters\n",
    "    ----------\n",
    "    graph : arango.graph.Graph\n",
    "        Graph\n",
    "    vertex_name : str\n",
    "        Name of the vertex collection to create or get\n",
    "\n",
    "    Returns\n",
    "    -------\n",
    "    collection : arango.collection.VertexCollection\n",
    "        Graph vertex collection\n",
    "    \"\"\"\n",
    "    # Create, or get the vertex collection\n",
    "    if not graph.has_vertex_collection(vertex_name):\n",
    "        print(f\"Creating graph vertex collection: {vertex_name}\")\n",
    "        collection = graph.create_vertex_collection(vertex_name)\n",
    "    else:\n",
    "        print(f\"Getting graph vertex collection: {vertex_name}\")\n",
    "        collection = graph.vertex_collection(vertex_name)\n",
    "\n",
    "    return collection\n"
   ],
   "id": "c8197f09-dbf9-4f38-a428-61b5a9875e75"
  },
  {
   "cell_type": "markdown",
   "metadata": {},
   "source": [
    "Now we create the two named vertex collections:"
   ],
   "id": "5fcbff67-99bc-446c-94d9-f1d5da02afb7"
  },
  {
   "cell_type": "code",
   "execution_count": null,
   "metadata": {
    "results": "output",
    "session": "shared"
   },
   "outputs": [],
   "source": [
    "cell_vertex_name = \"cell\"\n",
    "cell = create_or_get_vertex_collection(graph, cell_vertex_name)\n",
    "gene_vertex_name = \"gene\"\n",
    "gene = create_or_get_vertex_collection(graph, gene_vertex_name)\n"
   ],
   "id": "3dea7137-de1d-495d-9b1e-4a9e1628be1d"
  },
  {
   "cell_type": "markdown",
   "metadata": {},
   "source": [
    "Note that we can delete a vertex collection as follows:"
   ],
   "id": "cb200670-51be-414d-9eb2-199c40c316d5"
  },
  {
   "cell_type": "code",
   "execution_count": null,
   "metadata": {
    "results": "silent",
    "session": "shared",
    "tangle": "../py/ArangoDB.py"
   },
   "outputs": [],
   "source": [
    "def delete_vertex_collection(graph, vertex_name):\n",
    "    \"\"\"Delete an ArangoDB database graph vertex collection.\n",
    "\n",
    "    Parameters\n",
    "    ----------\n",
    "    graph : arango.graph.Graph\n",
    "        Graph\n",
    "    vertex_name : str\n",
    "        Name of the vertex collection to delete\n",
    "\n",
    "    Returns\n",
    "    -------\n",
    "    None\n",
    "    \"\"\"\n",
    "    # Delete the vertex collection\n",
    "    if graph.has_vertex_collection(vertex_name):\n",
    "        print(f\"Deleting graph vertex collection: {vertex_name}\")\n",
    "        graph.delete_vertex_collection(vertex_name)\n"
   ],
   "id": "18dec2ee-06b8-404e-a6fe-40fafe0bf764"
  },
  {
   "cell_type": "markdown",
   "metadata": {},
   "source": [
    "# Create or get, and delete a graph edge definition and collection\n",
    "\n",
    "ArangoDB can create edge collections by specifying an edge definition\n",
    "consisting of a from and to vertex collection. When using this\n",
    "approach, edges cannot be inserted into the collection unless valid.\n",
    "Here's the function we need, taking this defensive approach:"
   ],
   "id": "8b7548d8-cc9f-4350-9828-4d1afcef0ef4"
  },
  {
   "cell_type": "code",
   "execution_count": null,
   "metadata": {
    "results": "silent",
    "session": "shared",
    "tangle": "../py/ArangoDB.py"
   },
   "outputs": [],
   "source": [
    "def create_or_get_edge_collection(graph, from_vertex_name, to_vertex_name):\n",
    "    \"\"\"Create, or get an ArangoDB database edge collection from and\n",
    "    to the specified vertices.\n",
    "\n",
    "    Parameters\n",
    "    ----------\n",
    "    graph : arango.graph.Graph\n",
    "        Graph\n",
    "    from_vertex : str\n",
    "        Name of the vertex collection from which the edge originates\n",
    "    to_vertex : str\n",
    "        Name of the vertex collection to which the edge terminates\n",
    "\n",
    "    Returns\n",
    "    -------\n",
    "    collection : arango.collection.EdgeCollection\n",
    "        Graph edge collection\n",
    "    collection_name : str\n",
    "        Name of the edge collection\n",
    "    \"\"\"\n",
    "    # Create, or get the edge collection\n",
    "    collection_name = f\"{from_vertex_name}-{to_vertex_name}\"\n",
    "    if not graph.has_edge_definition(collection_name):\n",
    "        print(f\"Creating edge definition: {collection_name}\")\n",
    "        collection = graph.create_edge_definition(\n",
    "            edge_collection=collection_name,\n",
    "            from_vertex_collections=[f\"{from_vertex_name}\"],\n",
    "            to_vertex_collections=[f\"{to_vertex_name}\"],\n",
    "        )\n",
    "    else:\n",
    "        print(f\"Getting edge collection: {collection_name}\")\n",
    "        collection = graph.edge_collection(collection_name)\n",
    "\n",
    "    return collection, collection_name\n"
   ],
   "id": "45477c81-f0fe-4188-b168-e452726d7a4c"
  },
  {
   "cell_type": "markdown",
   "metadata": {},
   "source": [
    "Now create a single edge collection from cell to gene vertices:"
   ],
   "id": "413a91b5-57ff-4389-9ba6-5ee720c44502"
  },
  {
   "cell_type": "code",
   "execution_count": null,
   "metadata": {
    "results": "output",
    "session": "shared"
   },
   "outputs": [],
   "source": [
    "cell_gene, edge_name = create_or_get_edge_collection(graph, \"cell\", \"gene\")\n"
   ],
   "id": "e754771a-e674-4bce-bcfb-8041306ab06d"
  },
  {
   "cell_type": "markdown",
   "metadata": {},
   "source": [
    "Note that we can delete an edge collection as follows:"
   ],
   "id": "e33213fc-51d7-451b-830a-09420c51109b"
  },
  {
   "cell_type": "code",
   "execution_count": null,
   "metadata": {
    "results": "silent",
    "session": "shared",
    "tangle": "../py/ArangoDB.py"
   },
   "outputs": [],
   "source": [
    "def delete_edge_collection(graph, edge_name):\n",
    "    \"\"\"Delete an ArangoDB database graph edge definition and collection.\n",
    "\n",
    "    Parameters\n",
    "    ----------\n",
    "    graph : arango.graph.Graph\n",
    "        Graph\n",
    "    edge_name : str\n",
    "        Name of the edge definition and collection to delete\n",
    "\n",
    "    Returns\n",
    "    -------\n",
    "    None\n",
    "    \"\"\"\n",
    "    # Delete the collection\n",
    "    if graph.has_edge_definition(edge_name):\n",
    "        print(f\"Deleting graph edge definition and collection: {edge_name}\")\n",
    "        graph.delete_edge_definition(edge_name)\n"
   ],
   "id": "6a9ee8ae-4a1e-45aa-8cbc-adbfa1f35f1f"
  },
  {
   "cell_type": "markdown",
   "metadata": {},
   "source": [
    "# Insert graph vertices and edges\n",
    "\n",
    "Assuming the NS-Forest results reside in directory `NSFOREST_DIR`, we\n",
    "read each results file, then insert a vertex for each cell type and\n",
    "marker gene. Note that ArangoDB vertices can contain arbitrary\n",
    "content, so we collect the dataset identifiers for cell and gene\n",
    "vertices, and cluster names for gene vertices to use for inserting\n",
    "edges to dataset vertices we might add later."
   ],
   "id": "4ca06190-62ec-47f5-a9e9-39cbea586a15"
  },
  {
   "cell_type": "code",
   "execution_count": null,
   "metadata": {
    "results": "output",
    "session": "shared"
   },
   "outputs": [],
   "source": [
    "try:\n",
    "    # Read each NSForest results file\n",
    "    for fn in glob(f\"{NSFOREST_DIR}/*/*.csv\"):\n",
    "        print(f\"Reading results file: {fn}\")\n",
    "        df = pd.read_csv(fn)\n",
    "\n",
    "        # Append the dataset_id\n",
    "        dataset_id = os.path.basename(os.path.dirname(fn))\n",
    "        df[\"dataset_id\"] = dataset_id\n",
    "\n",
    "        # Consider each row of the DataFrame\n",
    "        for index, row in df.iterrows():\n",
    "\n",
    "            # Insert or update a cell vertex using the row clusterName\n",
    "            # as key, collecting all dataset_ids corresponding to the\n",
    "            # cell vertex\n",
    "            cll_key = row[\"clusterName\"].replace(\" \", \"-\").replace(\",\", \":\")\n",
    "            if not cell.has(cll_key):\n",
    "                d = {\n",
    "                    \"_key\": cll_key,\n",
    "                    \"clusterName\": row[\"clusterName\"],\n",
    "                    \"dataset_ids\": [row[\"dataset_id\"]],\n",
    "                }\n",
    "                print(f\"Inserting cell: {cll_key}\")\n",
    "                cell.insert(d)\n",
    "\n",
    "            else:\n",
    "                d = cell.get(cll_key)\n",
    "                d[\"dataset_ids\"].append(row[\"dataset_id\"])\n",
    "                print(f\"Updating cell: {cll_key}\")\n",
    "                cell.update(d)\n",
    "\n",
    "            # Consider each marker in the row\n",
    "            for mrk in ast.literal_eval(row[\"NSForest_markers\"]):\n",
    "\n",
    "                # Insert or update a gene vertex using the marker as\n",
    "                # key, collecting all clusterNames and dataset_ids\n",
    "                # corresponding to the gene vertex\n",
    "                gn_key = mrk\n",
    "                if not gene.has(gn_key):\n",
    "                    d = {\n",
    "                        \"_key\": gn_key,\n",
    "                        \"clusterNames\": [row[\"clusterName\"]],\n",
    "                        \"dataset_ids\": [row[\"dataset_id\"]],\n",
    "                    }\n",
    "                    print(f\"Inserting gene: {gn_key}\")\n",
    "                    gene.insert(d)\n",
    "\n",
    "                else:\n",
    "                    d = gene.get(gn_key)\n",
    "                    d[\"clusterNames\"].append(row[\"clusterName\"])\n",
    "                    d[\"dataset_ids\"].append(row[\"dataset_id\"])\n",
    "                    print(f\"Updating gene: {gn_key}\")\n",
    "                    gene.update(d)\n",
    "\n",
    "                # Insert an edge from the cell vertex to the gene\n",
    "                # vertex, if needed\n",
    "                d = {\n",
    "                    \"_key\": f\"{cll_key}-{gn_key}\",\n",
    "                    \"_from\": f\"cell/{cll_key}\",\n",
    "                    \"_to\": f\"gene/{gn_key}\",\n",
    "                }\n",
    "                if not cell_gene.has(d):\n",
    "                    print(\n",
    "                        f\"Inserting edge from cell vertex with key: {cll_key} to gene vertex with key: {gn_key}\"\n",
    "                    )\n",
    "                    cell_gene.insert(d)\n",
    "except Exception:\n",
    "    print_exc()\n"
   ],
   "id": "210bf47b-97d6-414a-afda-30a41a4e02ab"
  },
  {
   "cell_type": "markdown",
   "metadata": {},
   "source": [
    "Note that all of the database objects created can be deleted as follows:"
   ],
   "id": "7b23ac48-4462-47ce-a5f8-b92c046f241a"
  },
  {
   "cell_type": "code",
   "execution_count": null,
   "metadata": {
    "results": "output",
    "session": "shared"
   },
   "outputs": [],
   "source": [
    "delete_edge_collection(graph, edge_name)\n",
    "delete_vertex_collection(graph, gene_vertex_name)\n",
    "delete_vertex_collection(graph, cell_vertex_name)\n",
    "delete_graph(db, graph_name)\n",
    "delete_database(database_name)\n"
   ],
   "id": "20573638-0ed5-4da0-aa8b-0d6439290eaa"
  }
 ],
 "nbformat": 4,
 "nbformat_minor": 5,
 "metadata": {}
}
