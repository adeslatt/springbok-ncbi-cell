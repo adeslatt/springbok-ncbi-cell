{
 "cells": [
  {
   "cell_type": "markdown",
   "id": "be709a5e-08cb-4487-ace4-a3e2243496ba",
   "metadata": {},
   "source": [
    "# Objectives\n",
    "\n",
    "Since CELLxGENE serves as an initiating data source for the NCBI Cell\n",
    "pilot, the objectives of this document include demonstration of:\n",
    "\n",
    "-   Identification of CELLxGENE datasets for a particular organism, and\n",
    "    tissue\n",
    "\n",
    "-   Identification of CELLxGENE citation publications within PubMed\n",
    "\n",
    "## Background\n",
    "\n",
    "All single-cell RNA data from CZ CELLxGENE Discover is accessed,\n",
    "queried, and analyzed using the [CELLxGENE Discover\n",
    "Census](https://chanzuckerberg.github.io/cellxgene-census/). Using\n",
    "cell-based slicing and querying one can:\n",
    "\n",
    "-   Interact with the data through TileDB-SOMA\n",
    "\n",
    "-   Get slices in AnnData, Seurat, or SingleCellExperiment objects\n",
    "\n",
    "The following sections draw from CZ CELLxGENE tutorials which\n",
    "demonstrate how to use the Census to:\n",
    "\n",
    "-   [Explore and query the Census in the context of a single tissue,\n",
    "    lung](https://chanzuckerberg.github.io/cellxgene-census/notebooks/analysis_demo/comp_bio_explore_and_load_lung_data.html)\n",
    "\n",
    "-   [Query the expression data and cell/gene metadata from the Census,\n",
    "    and load them into common in-memory Python\n",
    "    objects](https://chanzuckerberg.github.io/cellxgene-census/notebooks/api_demo/census_query_extract.html)\n",
    "\n",
    "-   [Generate a citation string for all datasets contained in a Census\n",
    "    slice](https://chanzuckerberg.github.io/cellxgene-census/notebooks/api_demo/census_citation_generation.html)\n",
    "\n",
    "## Development environment\n",
    "\n",
    "See [Introduction.ipynb)](Introduction.ipynb).\n",
    "\n",
    "### Jupyter Notebook\n",
    "\n",
    "Launch Jupyter Notebook from a terminal in which `.zshenv` has been\n",
    "sourced, and the virtual environment has been activated.\n",
    "\n",
    "### Emacs Org Mode\n",
    "\n",
    "Evaluate this code block to define environment variables:\n",
    "\n",
    "``` zsh\n",
    "source .zshenv\n",
    "```\n",
    "\n",
    "Evaluate this code block to activate the virtual environment:\n",
    "\n",
    "``` commonlisp\n",
    "(pyvenv-activate \"../../.venv\")\n",
    "```\n",
    "\n",
    "# Identification of CELLxGENE datasets for human, lung cells\n",
    "\n",
    "Following the first tutorial, but anticipating a time consuming process,\n",
    "the first call of this function obtains all human lung cell metadata and\n",
    "datasets from the CZ CELLxGENE Census, and writes the resulting Pandas\n",
    "DataFrames to a `.parquet` file. On subsequent calls, this function\n",
    "reads the `.parquet` files. In both cases, the resulting DataFrames are\n",
    "returned.\n",
    "\n",
    "To begin, import modules, and assign module scope variables:"
   ]
  },
  {
   "cell_type": "code",
   "execution_count": null,
   "id": "c098d3ac-310d-45ec-bb53-5b1a78016549",
   "metadata": {
    "results": "silent",
    "session": "shared"
   },
   "outputs": [],
   "source": [
    "import os\n",
    "\n",
    "import pandas as pd\n",
    "\n",
    "DATA_DIR = \"../data\"\n",
    "\n",
    "NCBI_EMAIL = os.environ.get(\"NCBI_EMAIL\")\n",
    "NCBI_API_KEY = os.environ.get(\"NCBI_API_KEY\")\n",
    "NCBI_API_SLEEP = 1\n",
    "\n",
    "NCBI_CELL_DIR = f\"{DATA_DIR}/ncbi-cell\"\n",
    "\n"
   ]
  },
  {
   "cell_type": "markdown",
   "id": "c9f092f8-1381-4918-a592-33ca0652b314",
   "metadata": {},
   "source": [
    "Then define the function that does the work:"
   ]
  },
  {
   "cell_type": "code",
   "execution_count": null,
   "id": "687d4422-9443-4a63-9885-f5916c71d610",
   "metadata": {
    "results": "silent",
    "session": "shared"
   },
   "outputs": [],
   "source": [
    "def get_lung_obs_and_datasets():\n",
    "    \"\"\"Use the CZ CELLxGENE Census to obtain all unprocessed human\n",
    "    lung cell metadata and datasets, then write the resulting Pandas\n",
    "    DataFrames to parquet files, or, if the files exist, read them.\n",
    "\n",
    "    Parameters\n",
    "    ----------\n",
    "    None\n",
    "\n",
    "    Returns\n",
    "    -------\n",
    "    lung_obs : pd.DataFrame\n",
    "        DataFrame containing unprocessed dataset metadata\n",
    "    lung_datasets : pd.DataFrame\n",
    "        DataFrame containing unprocessed dataset descriptions\n",
    "    \"\"\"\n",
    "    # Create and write, or read DataFrames\n",
    "    lung_obs_parquet = f\"{NCBI_CELL_DIR}/up_lung_obs.parquet\"\n",
    "    lung_datasets_parquet = f\"{NCBI_CELL_DIR}/up_lung_datasets.parquet\"\n",
    "    if not os.path.exists(lung_obs_parquet) or not os.path.exists(\n",
    "             lung_datasets_parquet\n",
    "    ):\n",
    "        print(\"Opening soma\")\n",
    "        census = cellxgene_census.open_soma(census_version=\"latest\")\n",
    "\n",
    "        print(\"Collecting all datasets\")\n",
    "        datasets = census[\"census_info\"][\"datasets\"].read().concat().to_pandas()\n",
    "\n",
    "        print(\"Collecting lung obs\")\n",
    "        lung_obs = (\n",
    "            census[\"census_data\"][\"homo_sapiens\"]\n",
    "            .obs.read(\n",
    "                value_filter=\"tissue_general == 'lung' and is_primary_data == True\"\n",
    "            )\n",
    "            .concat()\n",
    "            .to_pandas()\n",
    "        )\n",
    "\n",
    "        print(\"Closing soma\")\n",
    "        census.close()\n",
    "\n",
    "        print(\"Writing unprocessed lung obs parquet\")\n",
    "        lung_obs.to_parquet(lung_obs_parquet)\n",
    "\n",
    "        print(\"Finding unprocessed lung datasets\")\n",
    "        lung_datasets = datasets[datasets[\"dataset_id\"].isin(lung_obs[\"dataset_id\"])]\n",
    "\n",
    "        print(\"Writing unprocessed lung datasets parquet\")\n",
    "        lung_datasets.to_parquet(lung_datasets_parquet)\n",
    "\n",
    "    else:\n",
    "\n",
    "        print(\"Reading unprocessed lung obs parquet\")\n",
    "        lung_obs = pd.read_parquet(lung_obs_parquet)\n",
    "\n",
    "        print(\"Reading unprocessed lung datasets parquet\")\n",
    "        lung_datasets = pd.read_parquet(lung_datasets_parquet)\n",
    "\n",
    "    return lung_obs, lung_datasets\n"
   ]
  },
  {
   "cell_type": "markdown",
   "id": "7924ebf3-2c9e-40df-b06e-4270a911bb6c",
   "metadata": {},
   "source": [
    "Now call the function to obtain the human lung cell metadata and\n",
    "datasets:"
   ]
  },
  {
   "cell_type": "code",
   "execution_count": null,
   "id": "ab82526b-2c90-4c58-8953-57fa268da151",
   "metadata": {
    "results": "output",
    "session": "shared"
   },
   "outputs": [],
   "source": [
    "lung_obs, lung_datasets = get_lung_obs_and_datasets()\n"
   ]
  },
  {
   "cell_type": "markdown",
   "id": "fa9682df-d42a-4dfa-8662-e79c33087007",
   "metadata": {},
   "source": [
    "Now view the returned DataFrames:\n",
    "\n",
    "    print(f\"lung_obs:\\n\\n{lung_obs}\")\n",
    "    print()\n",
    "    print(f\"lung_datasets:\\n\\n{lung_datasets}\")\n",
    "\n",
    "# Identification of CELLxGENE citation publications within PubMed"
   ]
  }
 ],
 "metadata": {
  "kernelspec": {
   "display_name": "Python 3 (ipykernel)",
   "language": "python",
   "name": "python3"
  },
  "language_info": {
   "codemirror_mode": {
    "name": "ipython",
    "version": 3
   },
   "file_extension": ".py",
   "mimetype": "text/x-python",
   "name": "python",
   "nbconvert_exporter": "python",
   "pygments_lexer": "ipython3",
   "version": "3.10.14"
  }
 },
 "nbformat": 4,
 "nbformat_minor": 5
}
